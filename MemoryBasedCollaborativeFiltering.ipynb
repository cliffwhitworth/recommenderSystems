{
 "cells": [
  {
   "cell_type": "markdown",
   "metadata": {},
   "source": [
    "## Memory-based Collaborative Filtering\n",
    "https://surprise.readthedocs.io/en/stable/getting_started.html"
   ]
  },
  {
   "cell_type": "code",
   "execution_count": 1,
   "metadata": {},
   "outputs": [],
   "source": [
    "# From Surprise docs getting started\n",
    "\n",
    "from surprise import Dataset\n",
    "from surprise.model_selection import train_test_split\n",
    "\n",
    "data = Dataset.load_builtin('ml-100k')\n",
    "# sample random trainset and testset\n",
    "# test set is made of 25% of the ratings.\n",
    "trainset, testset = train_test_split(data, test_size=.25)\n",
    "\n",
    "uid = str(196)  # raw user id (as in the ratings file). They are **strings**!\n",
    "iid = str(302)  # raw item id (as in the ratings file). They are **strings**!"
   ]
  },
  {
   "cell_type": "code",
   "execution_count": 2,
   "metadata": {},
   "outputs": [
    {
     "name": "stdout",
     "output_type": "stream",
     "text": [
      "RMSE: 0.9490\n",
      "Evaluating RMSE, MAE of algorithm SVD on 5 split(s).\n",
      "\n",
      "                  Fold 1  Fold 2  Fold 3  Fold 4  Fold 5  Mean    Std     \n",
      "RMSE (testset)    0.9396  0.9438  0.9285  0.9281  0.9412  0.9362  0.0066  \n",
      "MAE (testset)     0.7399  0.7422  0.7308  0.7321  0.7422  0.7374  0.0050  \n",
      "Fit time          7.25    7.11    7.46    7.08    7.30    7.24    0.14    \n",
      "Test time         0.52    0.37    0.34    0.39    0.46    0.42    0.07    \n"
     ]
    },
    {
     "data": {
      "text/plain": [
       "{'test_rmse': array([0.93962043, 0.94379347, 0.92854628, 0.92806653, 0.94118684]),\n",
       " 'test_mae': array([0.7398714 , 0.74223589, 0.73079158, 0.73210398, 0.74223826]),\n",
       " 'fit_time': (7.247158765792847,\n",
       "  7.106967449188232,\n",
       "  7.459359407424927,\n",
       "  7.08176851272583,\n",
       "  7.299118757247925),\n",
       " 'test_time': (0.521958589553833,\n",
       "  0.36715006828308105,\n",
       "  0.3427605628967285,\n",
       "  0.3929867744445801,\n",
       "  0.462648868560791)}"
      ]
     },
     "execution_count": 2,
     "metadata": {},
     "output_type": "execute_result"
    }
   ],
   "source": [
    "from surprise import SVD\n",
    "from surprise import accuracy\n",
    "from surprise.model_selection import cross_validate\n",
    "\n",
    "# Use the SVD algorithm.\n",
    "algo = SVD()\n",
    "\n",
    "# Train the algorithm on the trainset, and predict ratings for the testset\n",
    "algo.fit(trainset)\n",
    "predictions = algo.test(testset)\n",
    "\n",
    "# Then compute RMSE\n",
    "accuracy.rmse(predictions)\n",
    "\n",
    "# Run 5-fold cross-validation and compare\n",
    "cross_validate(algo, data, measures=['RMSE', 'MAE'], cv=5, verbose=True)"
   ]
  },
  {
   "cell_type": "code",
   "execution_count": 3,
   "metadata": {},
   "outputs": [
    {
     "name": "stdout",
     "output_type": "stream",
     "text": [
      "user: 196        item: 302        r_ui = 4.00   est = 4.52   {'was_impossible': False}\n"
     ]
    }
   ],
   "source": [
    "pred = algo.predict(uid, iid, r_ui=4, verbose=True)"
   ]
  },
  {
   "cell_type": "code",
   "execution_count": 4,
   "metadata": {},
   "outputs": [
    {
     "name": "stdout",
     "output_type": "stream",
     "text": [
      "Computing the msd similarity matrix...\n",
      "Done computing similarity matrix.\n",
      "user: 196        item: 302        r_ui = 4.00   est = 3.98   {'actual_k': 40, 'was_impossible': False}\n"
     ]
    }
   ],
   "source": [
    "from surprise import KNNBasic\n",
    "\n",
    "# Load the movielens-100k dataset\n",
    "#data = Dataset.load_builtin('ml-100k')\n",
    "\n",
    "# Retrieve the trainset.\n",
    "#trainset = data.build_full_trainset()\n",
    "\n",
    "# Use KNNBasic\n",
    "algo = KNNBasic()\n",
    "algo.fit(trainset)\n",
    "\n",
    "# get a prediction for specific users and items.\n",
    "pred = algo.predict(uid, iid, r_ui=4, verbose=True)"
   ]
  },
  {
   "cell_type": "code",
   "execution_count": 5,
   "metadata": {},
   "outputs": [],
   "source": [
    "# Build our movie id, movie names arrays\n",
    "from surprise import get_dataset_dir\n",
    "\n",
    "rid_to_name = {}\n",
    "name_to_rid = {}\n",
    "\n",
    "file_name = get_dataset_dir() + '/ml-100k/ml-100k/u.item'\n",
    "with open(file_name, 'r', encoding='ISO-8859-1') as f:\n",
    "    for line in f:\n",
    "        line = line.split('|')\n",
    "        rid_to_name[line[0]] = line[1]\n",
    "        name_to_rid[line[1]] = line[0]"
   ]
  },
  {
   "cell_type": "code",
   "execution_count": 6,
   "metadata": {},
   "outputs": [
    {
     "data": {
      "text/plain": [
       "'L.A. Confidential (1997)'"
      ]
     },
     "execution_count": 6,
     "metadata": {},
     "output_type": "execute_result"
    }
   ],
   "source": [
    "rid_to_name['302']"
   ]
  },
  {
   "cell_type": "code",
   "execution_count": 7,
   "metadata": {},
   "outputs": [
    {
     "data": {
      "text/plain": [
       "'302'"
      ]
     },
     "execution_count": 7,
     "metadata": {},
     "output_type": "execute_result"
    }
   ],
   "source": [
    "name_to_rid['L.A. Confidential (1997)']"
   ]
  },
  {
   "cell_type": "code",
   "execution_count": 8,
   "metadata": {},
   "outputs": [],
   "source": [
    "# Function to get name of movie based on id\n",
    "def getMovieName(movieID):\n",
    "    if movieID in rid_to_name:\n",
    "        return rid_to_name[movieID]\n",
    "    else:\n",
    "        return \"\"\n"
   ]
  },
  {
   "cell_type": "code",
   "execution_count": 9,
   "metadata": {},
   "outputs": [],
   "source": [
    "# Build our user data\n",
    "from surprise import Reader\n",
    "\n",
    "file_name = get_dataset_dir() + '/ml-100k/ml-100k/u.data'\n",
    "reader = Reader(line_format='user item rating timestamp', sep='\\t')\n",
    "data = Dataset.load_from_file(file_name, reader=reader)\n",
    "trainSet = data.build_full_trainset()"
   ]
  },
  {
   "cell_type": "code",
   "execution_count": 10,
   "metadata": {},
   "outputs": [],
   "source": [
    "# Dictionary of movies already seen by uid\n",
    "testUserInnerID = trainSet.to_inner_uid(uid)\n",
    "watched = {}\n",
    "for itemID, rating in trainSet.ur[testUserInnerID]:\n",
    "    watched[itemID] = 1"
   ]
  },
  {
   "cell_type": "code",
   "execution_count": 11,
   "metadata": {},
   "outputs": [
    {
     "name": "stdout",
     "output_type": "stream",
     "text": [
      "Computing the cosine similarity matrix...\n",
      "Done computing similarity matrix.\n",
      "Computing the cosine similarity matrix...\n",
      "Done computing similarity matrix.\n"
     ]
    }
   ],
   "source": [
    "# Item-based collaborative filtering\n",
    "from surprise import KNNBasic\n",
    "\n",
    "sim_options = {'name': 'cosine',\n",
    "               'user_based': False\n",
    "               }\n",
    "\n",
    "model = KNNBasic(sim_options=sim_options)\n",
    "model.fit(trainSet)\n",
    "simsMatrix = model.compute_similarities()"
   ]
  },
  {
   "cell_type": "code",
   "execution_count": 12,
   "metadata": {},
   "outputs": [],
   "source": [
    "# Define similarityRow\n",
    "similarityRow = simsMatrix[testUserInnerID]"
   ]
  },
  {
   "cell_type": "code",
   "execution_count": 13,
   "metadata": {},
   "outputs": [],
   "source": [
    "# Build testUserRatings\n",
    "testUserRatings = trainSet.ur[testUserInnerID]\n",
    "# https://surprise.readthedocs.io/en/stable/trainset.html"
   ]
  },
  {
   "cell_type": "code",
   "execution_count": 14,
   "metadata": {},
   "outputs": [],
   "source": [
    "# Build kNeighbors\n",
    "import heapq\n",
    "# https://docs.python.org/2/library/heapq.html\n",
    "\n",
    "k = 10\n",
    "kNeighbors = heapq.nlargest(k, testUserRatings, key=lambda t: t[1])"
   ]
  },
  {
   "cell_type": "code",
   "execution_count": 15,
   "metadata": {},
   "outputs": [],
   "source": [
    "# Get similar items weighted by rating\n",
    "from collections import defaultdict\n",
    "\n",
    "similarItems = defaultdict(float)\n",
    "for itemID, rating in kNeighbors:\n",
    "    similarityRow = simsMatrix[itemID]\n",
    "    for innerID, score in enumerate(similarityRow):\n",
    "        similarItems[innerID] += score * (rating / 5.0)"
   ]
  },
  {
   "cell_type": "code",
   "execution_count": 16,
   "metadata": {
    "scrolled": true
   },
   "outputs": [
    {
     "name": "stdout",
     "output_type": "stream",
     "text": [
      "1330 An Unforgettable Summer (1994) 9.569725782787199\n",
      "973 Grateful Dead (1995) 9.55040898169926\n",
      "1506 Nelly & Monsieur Arnaud (1995) 9.545208434259099\n",
      "314 3 Ninjas: High Noon At Mega Mountain (1998) 9.526303138153162\n",
      "1083 Albino Alligator (1996) 9.522541737502978\n",
      "935 Paradise Road (1997) 9.482367222711115\n",
      "909 Dangerous Beauty (1998) 9.482275440776151\n",
      "1379 Love and Other Catastrophes (1996) 9.479044527813514\n",
      "1324 Loaded (1994) 9.459044077172537\n",
      "1523 Good Man in Africa, A (1994) 9.456642682550967\n",
      "1024 Mrs. Dalloway (1997) 9.45608397969789\n"
     ]
    }
   ],
   "source": [
    "# Print top-rated items from similar items\n",
    "from operator import itemgetter\n",
    "# https://docs.python.org/3/library/operator.html\n",
    "\n",
    "pos = 0\n",
    "for itemID, ratingSum in sorted(similarItems.items(), key=itemgetter(1), reverse=True):\n",
    "    if not itemID in watched:\n",
    "        movieID = trainSet.to_raw_iid(itemID)\n",
    "        print(movieID, getMovieName(movieID), ratingSum)\n",
    "        pos += 1\n",
    "        if (pos > 10):\n",
    "            break"
   ]
  },
  {
   "cell_type": "code",
   "execution_count": 17,
   "metadata": {},
   "outputs": [
    {
     "name": "stdout",
     "output_type": "stream",
     "text": [
      "935 Paradise Road (1997) 18.911889486207357\n",
      "1068 Star Maker, The (Uomo delle stelle, L') (1995) 18.748924268405958\n",
      "1169 Fresh (1994) 18.723948426699796\n",
      "1451 Foreign Correspondent (1940) 18.723657710503176\n",
      "587 Hour of the Pig, The (1993) 18.70882631460672\n",
      "1141 War Room, The (1993) 18.67243715253662\n",
      "691 Dark City (1998) 18.66730871995214\n",
      "936 Brassed Off (1996) 18.658482192086183\n",
      "1628 Lamerica (1994) 18.64334619219852\n",
      "1379 Love and Other Catastrophes (1996) 18.631059087664006\n",
      "114 Wallace & Gromit: The Best of Aardman Animation (1996) 18.617731088188748\n"
     ]
    }
   ],
   "source": [
    "# Aternative Tuning\n",
    "from collections import defaultdict\n",
    "from operator import itemgetter\n",
    "\n",
    "kNeighbors = []\n",
    "for rating in testUserRatings:\n",
    "    if rating[1] >= 4.0:\n",
    "        kNeighbors.append(rating)\n",
    "    \n",
    "similarItemsAlt = defaultdict(float)\n",
    "for itemID, rating in kNeighbors:\n",
    "    similarityRow = simsMatrix[itemID]\n",
    "    for innerID, score in enumerate(similarityRow):\n",
    "        similarItemsAlt[innerID] += score * (rating / 5.0)\n",
    "        \n",
    "pos = 0\n",
    "for itemID, ratingSum in sorted(similarItemsAlt.items(), key=itemgetter(1), reverse=True):\n",
    "    if not itemID in watched:\n",
    "        movieID = trainSet.to_raw_iid(itemID)\n",
    "        print(movieID, getMovieName(movieID), ratingSum)\n",
    "        pos += 1\n",
    "        if (pos > 10):\n",
    "            break"
   ]
  },
  {
   "cell_type": "code",
   "execution_count": 18,
   "metadata": {},
   "outputs": [
    {
     "name": "stdout",
     "output_type": "stream",
     "text": [
      "Computing the cosine similarity matrix...\n",
      "Done computing similarity matrix.\n",
      "Computing the cosine similarity matrix...\n",
      "Done computing similarity matrix.\n"
     ]
    }
   ],
   "source": [
    "# User-based collaborative filtering\n",
    "sim_options = {'name': 'cosine',\n",
    "               'user_based': True\n",
    "               }\n",
    "\n",
    "model = KNNBasic(sim_options=sim_options)\n",
    "model.fit(trainSet)\n",
    "simsMatrix = model.compute_similarities()"
   ]
  },
  {
   "cell_type": "code",
   "execution_count": 19,
   "metadata": {},
   "outputs": [],
   "source": [
    "# Define similarityRow\n",
    "similarityRow = simsMatrix[testUserInnerID]"
   ]
  },
  {
   "cell_type": "code",
   "execution_count": 20,
   "metadata": {},
   "outputs": [],
   "source": [
    "# Top K users\n",
    "import heapq\n",
    "\n",
    "k = 10\n",
    "TopKUsers = []\n",
    "for innerID, score in enumerate(similarityRow):\n",
    "    if (innerID != testUserInnerID):\n",
    "        TopKUsers.append( (innerID, score) )\n",
    "\n",
    "kNeighbors = heapq.nlargest(k, TopKUsers, key=lambda t: t[1])"
   ]
  },
  {
   "cell_type": "code",
   "execution_count": 21,
   "metadata": {},
   "outputs": [],
   "source": [
    "# Add up ratings weighted by user similarity\n",
    "similarUsers = defaultdict(float)\n",
    "for similarUser in kNeighbors:\n",
    "    innerID = similarUser[0]\n",
    "    userSimilarityScore = similarUser[1]\n",
    "    theirRatings = trainSet.ur[innerID]\n",
    "    for rating in theirRatings:\n",
    "        similarUsers[rating[0]] += (rating[1] / 5.0) * userSimilarityScore\n"
   ]
  },
  {
   "cell_type": "code",
   "execution_count": 22,
   "metadata": {},
   "outputs": [
    {
     "name": "stdout",
     "output_type": "stream",
     "text": [
      "288 Scream (1996) 4.999999999999999\n",
      "294 Liar Liar (1997) 3.4000000000000004\n",
      "50 Star Wars (1977) 3.0\n",
      "300 Air Force One (1997) 2.8\n",
      "258 Contact (1997) 2.6\n",
      "237 Jerry Maguire (1996) 2.6\n",
      "98 Silence of the Lambs, The (1991) 2.6\n",
      "243 Jungle2Jungle (1997) 2.4\n",
      "343 Alien: Resurrection (1997) 2.2\n",
      "748 Saint, The (1997) 2.2\n",
      "268 Chasing Amy (1997) 2.2\n"
     ]
    }
   ],
   "source": [
    "# Print top-rated items from similar users\n",
    "pos = 0\n",
    "for itemID, ratingSum in sorted(similarUsers.items(), key=itemgetter(1), reverse=True):\n",
    "    if not itemID in watched:\n",
    "        movieID = trainSet.to_raw_iid(itemID)\n",
    "        print(movieID, getMovieName(movieID), ratingSum)\n",
    "        pos += 1\n",
    "        if (pos > 10):\n",
    "            break\n"
   ]
  },
  {
   "cell_type": "code",
   "execution_count": 23,
   "metadata": {},
   "outputs": [
    {
     "name": "stdout",
     "output_type": "stream",
     "text": [
      "50 Star Wars (1977) 61.79999999999999\n",
      "181 Return of the Jedi (1983) 55.4\n",
      "100 Fargo (1996) 54.4\n",
      "258 Contact (1997) 45.2\n",
      "117 Rock, The (1996) 43.00000000000001\n",
      "127 Godfather, The (1972) 42.800000000000004\n",
      "174 Raiders of the Lost Ark (1981) 40.4\n",
      "423 E.T. the Extra-Terrestrial (1982) 40.0\n",
      "300 Air Force One (1997) 39.8\n",
      "294 Liar Liar (1997) 39.00000000000001\n",
      "172 Empire Strikes Back, The (1980) 38.800000000000004\n"
     ]
    }
   ],
   "source": [
    "# Aternative Tuning\n",
    "from collections import defaultdict\n",
    "from operator import itemgetter\n",
    "\n",
    "kNeighbors = []\n",
    "for rating in testUserRatings:\n",
    "    if rating[1] >= .95:\n",
    "        kNeighbors.append(rating)\n",
    "    \n",
    "similarUsers = defaultdict(float)\n",
    "for similarUser in kNeighbors:\n",
    "    innerID = similarUser[0]\n",
    "    userSimilarityScore = similarUser[1]\n",
    "    theirRatings = trainSet.ur[innerID]\n",
    "    for rating in theirRatings:\n",
    "        similarUsers[rating[0]] += (rating[1] / 5.0) * userSimilarityScore\n",
    "        \n",
    "pos = 0\n",
    "for itemID, ratingSum in sorted(similarUsers.items(), key=itemgetter(1), reverse=True):\n",
    "    if not itemID in watched:\n",
    "        movieID = trainSet.to_raw_iid(itemID)\n",
    "        print(movieID, getMovieName(movieID), ratingSum)\n",
    "        pos += 1\n",
    "        if (pos > 10):\n",
    "            break\n"
   ]
  }
 ],
 "metadata": {
  "kernelspec": {
   "display_name": "Python 3",
   "language": "python",
   "name": "python3"
  },
  "language_info": {
   "codemirror_mode": {
    "name": "ipython",
    "version": 3
   },
   "file_extension": ".py",
   "mimetype": "text/x-python",
   "name": "python",
   "nbconvert_exporter": "python",
   "pygments_lexer": "ipython3",
   "version": "3.6.3"
  }
 },
 "nbformat": 4,
 "nbformat_minor": 2
}
